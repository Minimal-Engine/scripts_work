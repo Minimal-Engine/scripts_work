{
 "cells": [
  {
   "cell_type": "markdown",
   "metadata": {},
   "source": [
    "# Script to generate a folder for a businiess trip\n",
    "\n",
    "## General desricption\n",
    "\n",
    "The script shall generate a folder structure for a business-trip, including sub-folders for Transfer, Hotels etc.\n",
    "Ideally it shall be a function. After executing, the folders shall be generated after the user has entered certain details, including:\n",
    "\n",
    "- Start\n",
    "- Stop\n",
    "- Country of Location\n",
    "- City of trip\n",
    "- Hotel needed\n",
    "- Taxi/Ride-hailing needed\n",
    "- Rental Car needed\n",
    "- Flight needed\n",
    "- Meal expenses\n",
    "\n",
    "It might be a good idea to just pass a json file into that function with all the information.\n",
    "The script may also generate:\n",
    "\n",
    "- A Markdown file in the Business-trip-folder with all the information\n",
    "- An SQLite entry in a database for all my trips\n",
    "- A calendar entry in outlook (shall be possible locally with outlook.exe-command )\n",
    "- For GET/MD: The word document containing all relevant information for that trip to send it to my superior and the team-assistant\n",
    "\n",
    "All mentioned variables shall have definitive names\n",
    "\n",
    "## Description of variables:\n",
    "\n",
    "'trip_start' - day that the trip starts (DATETIME)\n",
    "'trip_nights' - number of nights spent during the business-trip (INTEGER)\n",
    "'trip_country' - Country of the trip  (ISO-Code 3661 - String)\n",
    "'trip_city' - City of the trip (String)\n",
    "'trip_reason' - Reason for the trip\n",
    "'trip_flights' - Flight needed? (BOOL)\n",
    "'trip_rentals' - Rental transport needed? (BOOL)\n",
    "'trip_public_transport' - Public transport needed? (BOOL)\n",
    "\n",
    "\n"
   ]
  },
  {
   "cell_type": "code",
   "execution_count": 3,
   "metadata": {},
   "outputs": [
    {
     "name": "stdout",
     "output_type": "stream",
     "text": [
      "2024-12-01\n"
     ]
    }
   ],
   "source": [
    "trip_start = input(\":\")\n",
    "print(trip_start)"
   ]
  },
  {
   "cell_type": "markdown",
   "metadata": {},
   "source": []
  },
  {
   "cell_type": "code",
   "execution_count": 1,
   "metadata": {},
   "outputs": [
    {
     "name": "stdout",
     "output_type": "stream",
     "text": [
      "Hello World\n"
     ]
    }
   ],
   "source": [
    "print ('Hello World')"
   ]
  }
 ],
 "metadata": {
  "kernelspec": {
   "display_name": "Python 3",
   "language": "python",
   "name": "python3"
  },
  "language_info": {
   "codemirror_mode": {
    "name": "ipython",
    "version": 3
   },
   "file_extension": ".py",
   "mimetype": "text/x-python",
   "name": "python",
   "nbconvert_exporter": "python",
   "pygments_lexer": "ipython3",
   "version": "3.10.11"
  }
 },
 "nbformat": 4,
 "nbformat_minor": 2
}
